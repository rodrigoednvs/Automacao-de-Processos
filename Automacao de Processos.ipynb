{
 "cells": [
  {
   "cell_type": "markdown",
   "metadata": {},
   "source": [
    "# Automação de Processos e Análise de Dados com Python\n",
    "\n",
    "### Tarefa de Negócios:\n",
    "\n",
    "Todos os dias sistema da empresa fictícia onde trabalho atualiza as vendas do dia anterior. Como Analista de Dados, uma das minhas funções é enviar um e-mail para a diretoria, assim que começar a trabalhar, com uma breve análise da base de dados hospedada no sistema da empresa para extrair informações de faturamento e  quantidade de produtos vendidos no dia anterior.\n",
    "\n",
    "Para otimizar tal tarefa, resolvi automatizá-la usando o Python e algumas de suas bibliotecas."
   ]
  },
  {
   "cell_type": "code",
   "execution_count": 39,
   "metadata": {},
   "outputs": [],
   "source": [
    "import pyautogui as pyag\n",
    "import time\n",
    "import pyperclip as pypc\n",
    "\n",
    "pyautogui.PAUSE = 1\n",
    "\n",
    "# Abrindo Navegador\n",
    "\n",
    "#pyag.press('winleft')\n",
    "#pyag.write('chrome')\n",
    "#pyag.press('enter')\n",
    "pyag.alert('Vai começar. Aperte OK e não faça mais nada! :)')\n",
    "pyag.hotkey('ctrl', 't')\n",
    "\n",
    "# Baixando base de dados\n",
    "\n",
    "link = 'https://drive.google.com/drive/folders/14oLE59U1RqyRqlBbKpsyymW-mitvbtoh'\n",
    "pypc.copy(link)\n",
    "pyag.hotkey('ctrl', 'v')\n",
    "pyag.press('enter')\n",
    "time.sleep(10)\n",
    "pyag.click(1259, 344)\n",
    "pyag.click(1029, 569)\n",
    "time.sleep(5)\n",
    "pyag.press('enter')"
   ]
  },
  {
   "cell_type": "markdown",
   "metadata": {},
   "source": [
    "### Análise da base de dados\n",
    "\n",
    "Indicadores:\n",
    "- Faturamento\n",
    "- Quantidade de Produtos"
   ]
  },
  {
   "cell_type": "code",
   "execution_count": 40,
   "metadata": {},
   "outputs": [],
   "source": [
    "# Importando a base de dados\n",
    "\n",
    "import pandas as pd\n",
    "time.sleep(10)\n",
    "df = pd.read_excel(r\"C:\\Users\\rodri\\Downloads\\Vendas - Dez.xlsx\")\n",
    "#display(df)\n",
    "\n",
    "# Calculando indicadores\n",
    "\n",
    "faturamento = df['Valor Final'].sum()\n",
    "qtde_produtos = df['Quantidade'].sum()\n",
    "\n",
    "#print(faturamento)\n",
    "#print(qtde_produtos)"
   ]
  },
  {
   "cell_type": "markdown",
   "metadata": {},
   "source": [
    "### Enviando email para a Diretoria da empresa"
   ]
  },
  {
   "cell_type": "code",
   "execution_count": 41,
   "metadata": {},
   "outputs": [],
   "source": [
    "# Abrindo Gmail\n",
    "\n",
    "pyag.hotkey('ctrl','t')\n",
    "pyag.write('mail.google.com')\n",
    "pyag.press('enter')\n",
    "time.sleep(5)\n",
    "\n",
    "# Redigindo email com relatório\n",
    "\n",
    "pyag.click(75, 196)\n",
    "pyag.write('rodrigoednvs+diretoria@gmail.com')\n",
    "time.sleep(1)\n",
    "pyag.press('tab')\n",
    "pyag.press('tab')\n",
    "\n",
    "assunto = 'Relatório de Vendas'\n",
    "pypc.copy(assunto)\n",
    "pyag.hotkey('ctrl','v')\n",
    "pyag.press('tab')\n",
    "\n",
    "texto = f\"\"\"Prezados, bom dia.\n",
    "\n",
    "O faturamento de ontem foi de: R$ {faturamento:,.2f}\n",
    "A quantidade de produtos vendidos foi de: {qtde_produtos:,}\n",
    "\n",
    "Qualquer dúvida, estou à disposição.\n",
    "\n",
    "Cordialmente\n",
    "Rodrigo Neves\"\"\"\n",
    "\n",
    "pypc.copy(texto)\n",
    "pyag.hotkey('ctrl','v')\n",
    "pyag.hotkey('ctrl','enter')"
   ]
  },
  {
   "cell_type": "code",
   "execution_count": 42,
   "metadata": {},
   "outputs": [],
   "source": [
    "#time.sleep(5)\n",
    "#print(pyag.position())"
   ]
  }
 ],
 "metadata": {
  "kernelspec": {
   "display_name": "Python 3 (ipykernel)",
   "language": "python",
   "name": "python3"
  },
  "language_info": {
   "codemirror_mode": {
    "name": "ipython",
    "version": 3
   },
   "file_extension": ".py",
   "mimetype": "text/x-python",
   "name": "python",
   "nbconvert_exporter": "python",
   "pygments_lexer": "ipython3",
   "version": "3.10.9"
  }
 },
 "nbformat": 4,
 "nbformat_minor": 4
}
